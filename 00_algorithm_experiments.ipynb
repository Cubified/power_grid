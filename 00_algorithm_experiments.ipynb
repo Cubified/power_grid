{
 "cells": [
  {
   "cell_type": "markdown",
   "id": "0c9f8fd6-2b50-4063-acdf-b835b00f4766",
   "metadata": {},
   "source": [
    "# CSE 202:  *Power Grid* Experiments\n",
    "## Winter 2025\n",
    "### Melina Dimitropoulou Kapsogeorgou, Andrew Pan, Adrian Rosing, Andrew Russell, Benjamin Xia"
   ]
  },
  {
   "cell_type": "code",
   "execution_count": 43,
   "id": "b1f68f9b-522e-4f36-94d4-37862fc9431c",
   "metadata": {},
   "outputs": [],
   "source": [
    "import itertools\n",
    "import networkx as nx\n",
    "from networkx.algorithms import tree"
   ]
  },
  {
   "cell_type": "markdown",
   "id": "0061388e-916a-4c83-8f08-8037ea7a1c2e",
   "metadata": {},
   "source": [
    "## Pre-Game Initialization"
   ]
  },
  {
   "cell_type": "code",
   "execution_count": 67,
   "id": "0fa41398-1502-418b-823b-2c2489f2c542",
   "metadata": {},
   "outputs": [],
   "source": [
    "def phase0_solve_kmst(G, K):\n",
    "    V = list(G.nodes)\n",
    "    E = list(G.edges)\n",
    "\n",
    "    result_mst = None\n",
    "    min_weight = float('inf')\n",
    "    for Vp in itertools.combinations(V, K):\n",
    "        subgraph = G.subgraph(Vp)\n",
    "        if not nx.is_connected(subgraph):\n",
    "            continue\n",
    "        T = nx.minimum_spanning_tree(subgraph, algorithm='prim')\n",
    "        total_cost = T.size(weight='weight')\n",
    "        if total_cost < min_weight:\n",
    "            result_mst = T\n",
    "            min_weight = total_cost\n",
    "    return (result_mst, min_weight)"
   ]
  },
  {
   "cell_type": "code",
   "execution_count": 68,
   "id": "b69764f1-de45-49d2-9ff9-5659275e45c9",
   "metadata": {},
   "outputs": [
    {
     "data": {
      "text/plain": [
       "(<networkx.classes.graph.Graph at 0x106423250>, 0.2)"
      ]
     },
     "execution_count": 68,
     "metadata": {},
     "output_type": "execute_result"
    }
   ],
   "source": [
    "G = nx.Graph()\n",
    "G.add_node(0)\n",
    "G.add_node(1)\n",
    "G.add_node(2)\n",
    "G.add_weighted_edges_from([(0, 1, 0.5), (0, 2, 0.2)])\n",
    "\n",
    "phase0_solve_kmst(G, 2)"
   ]
  },
  {
   "cell_type": "markdown",
   "id": "b9862726-c8e9-4593-b87b-f346f545f21d",
   "metadata": {},
   "source": [
    "## *Purchase Power Plants* Phase"
   ]
  },
  {
   "cell_type": "code",
   "execution_count": 65,
   "id": "aee9ea75-6262-47c5-9ed5-616d3aac0a39",
   "metadata": {},
   "outputs": [],
   "source": [
    "def argmin(a):\n",
    "    return min(range(len(a)), key=lambda x : a[x])\n",
    "def argmax(a):\n",
    "    return max(range(len(a)), key=lambda x : a[x])\n",
    "\n",
    "def max_pow(P, f, ResourceCost, K):\n",
    "    dp = []\n",
    "    Pp = []\n",
    "    for i in range(len(P) + 1):\n",
    "        dp.append([0 for j in range(f + 1)])\n",
    "        Pp.append([set() for j in range(f + 1)])\n",
    "    for i in range(1, len(P) + 1):\n",
    "        c, rt, ra, e = P[i - 1]\n",
    "        running_cost = ra * ResourceCost[rt]\n",
    "        for j in range(1, f + 1):\n",
    "            no_change = dp[i - 1][j]\n",
    "            add_plant = dp[i - 1][j - running_cost] + e\n",
    "            if j - running_cost <= 0 or no_change > add_plant:\n",
    "                dp[i][j] = dp[i - 1][j]\n",
    "                Pp[i][j] = Pp[i - 1][j].copy()\n",
    "            else:\n",
    "                dp[i][j] = add_plant\n",
    "                Pp[i][j] = Pp[i - 1][j - running_cost] | set(P[i - 1:i])\n",
    "    if max(dp[len(P)]) < K:\n",
    "        return (\n",
    "            max(dp[len(P)]),\n",
    "            argmax(dp[len(P)]),\n",
    "            dp,\n",
    "            Pp\n",
    "        )\n",
    "    return (\n",
    "        min([ x for x in dp[len(P)] if x >= K ]),\n",
    "        argmin([ x for x in dp[len(P)] if x >= K ]),\n",
    "        dp,\n",
    "        Pp\n",
    "    )\n",
    "\n",
    "def phase1_purchase_power_plants(P, f, P_player, P_max, ResourceCost, K):\n",
    "    # No purchase decision\n",
    "    m0, c0, _, _ = max_pow(P_player, f, ResourceCost, K)\n",
    "\n",
    "    # Purchase decision, no eviction decision\n",
    "    m1 = 0\n",
    "    c1 = 0\n",
    "    p1 = None\n",
    "    for i, p in enumerate(P):\n",
    "        c_i, rt, ra, e = p\n",
    "        m, c, _, _ = max_pow(P_player + [p], f - c_i, ResourceCost, K) \n",
    "        c += c_i\n",
    "        if m > m1 or (m == m1 and c < c1):\n",
    "            m1 = m\n",
    "            c1 = c\n",
    "            p1 = p\n",
    "\n",
    "    # Purchase decision, eviction decision\n",
    "    m2 = 0\n",
    "    c2 = 0\n",
    "    p2 = None\n",
    "    d2 = None\n",
    "    for i, p in enumerate(P):\n",
    "        c_i, rt, ra, e = p\n",
    "        for pp in itertools.combinations(P_player, len(P_player) - 1):\n",
    "            m, c, _, _ = max_pow([*pp, p], f - c_i, ResourceCost, K)\n",
    "            c += c_i\n",
    "            if m > m2 or (m == m2 and c < c2):\n",
    "                m2 = m\n",
    "                c2 = c\n",
    "                p2 = p\n",
    "                e2 = list(set(P_player) - set(pp))[0]\n",
    "\n",
    "    out_p = None\n",
    "    out_d = None\n",
    "    if m0 >= m1 and m0 >= m2: # Doing nothing is best\n",
    "        return out_p, out_d\n",
    "    \n",
    "    if m1 > m2 or (m1 == m2 and c1 <= c2):\n",
    "        out_p = p1\n",
    "    elif m2 > m1 or (m1 == m2 and c2 < c1):\n",
    "        out_p = p2\n",
    "        out_d = d2\n",
    "    return out_p, out_d"
   ]
  },
  {
   "cell_type": "code",
   "execution_count": 66,
   "id": "234054b9-5f79-4e3b-adc7-8c695ece01c5",
   "metadata": {},
   "outputs": [
    {
     "data": {
      "text/plain": [
       "((5, 'Trash', 2, 10), None)"
      ]
     },
     "execution_count": 66,
     "metadata": {},
     "output_type": "execute_result"
    }
   ],
   "source": [
    "P = [\n",
    "    (10, 'Coal', 3, 4),\n",
    "    (5, 'Trash', 2, 10)\n",
    "]\n",
    "f = 50\n",
    "P_player = [\n",
    "    (5, 'Uranium', 1, 1)\n",
    "]\n",
    "P_max = 3\n",
    "ResourceCost = {\n",
    "    'Coal': 1,\n",
    "    'Uranium': 1,\n",
    "    'Trash': 1\n",
    "}\n",
    "K = 10\n",
    "\n",
    "phase1_purchase_power_plants(P, f, P_player, P_max, ResourceCost, K)"
   ]
  },
  {
   "cell_type": "markdown",
   "id": "1abfed4f-3ceb-4d27-963b-b5f9906b5cea",
   "metadata": {},
   "source": [
    "## *Purchasing Resources*/*Building Connections*/*Powering Plants* Phase"
   ]
  },
  {
   "cell_type": "code",
   "execution_count": 79,
   "id": "f4c47f64-3b2e-4ab9-b3ce-f7d87f24e6ab",
   "metadata": {},
   "outputs": [],
   "source": [
    "def phase2_purchase_build_power(P, Gp, C, f, ResourceCost, K, B):\n",
    "    Vp = list(Gp.nodes)\n",
    "    mst = list(tree.minimum_spanning_edges(G, algorithm='prim'))\n",
    "\n",
    "    Prefix = [0]\n",
    "    for i in range(1, len(mst) + 1):\n",
    "        Prefix.append(Prefix[i - 1] + mst[i - 1][2]['weight'])\n",
    "\n",
    "    MP, MC, dp, Pp = max_pow(P, f, ResourceCost, K)\n",
    "\n",
    "    i = argmax([\n",
    "        min(dp[len(P)][f - Prefix[i]], len(C) + i)\n",
    "            for i in range(1, len(Vp) - len(C) + 1)\n",
    "    ])\n",
    "    M = len(C) + i\n",
    "\n",
    "    if M >= K:\n",
    "        i_star = min(dp[len(P)][f - Prefix[i]], len(C) + i)\n",
    "    else:\n",
    "        j = 0\n",
    "        i_star = argmax([\n",
    "            max([f - Prefix[i] - j + B * min(dp[len(P)][j], len(C) + i)])\n",
    "                for j in range(0, f - Prefix[i] + 1)\n",
    "        ])\n",
    "        \n",
    "    e = mst[0:(i_star + 1)]\n",
    "    P_new = list(Pp[len(P)][f] - set(P))\n",
    "    Rt = [ rt for (_, rt, _, _) in P_new ]\n",
    "    Q = [ ra for (_, _, ra, _) in P_new ]\n",
    "    return (Rt, Q), e, P_new"
   ]
  },
  {
   "cell_type": "code",
   "execution_count": 80,
   "id": "8021336a-d0c9-4a84-a5c4-c543e05c6bde",
   "metadata": {},
   "outputs": [
    {
     "data": {
      "text/plain": [
       "(([], []), [(0, 2, {'weight': 2})], [])"
      ]
     },
     "execution_count": 80,
     "metadata": {},
     "output_type": "execute_result"
    }
   ],
   "source": [
    "P_player = [\n",
    "    (5, 'Uranium', 1, 1)\n",
    "]\n",
    "G = nx.Graph()\n",
    "G.add_node(0)\n",
    "G.add_node(1)\n",
    "G.add_node(2)\n",
    "G.add_weighted_edges_from([(0, 1, 5), (0, 2, 2)])\n",
    "C = [0, 1]\n",
    "f = 50\n",
    "ResourceCost = {\n",
    "    'Coal': 1,\n",
    "    'Uranium': 1,\n",
    "    'Trash': 1\n",
    "}\n",
    "K = 10\n",
    "B = 1\n",
    "\n",
    "phase2_purchase_build_power(P_player, G, C, f, ResourceCost, K, B)"
   ]
  },
  {
   "cell_type": "code",
   "execution_count": null,
   "id": "d4c9abbd-e9fe-4f1b-848c-28fda849e24e",
   "metadata": {},
   "outputs": [],
   "source": []
  }
 ],
 "metadata": {
  "kernelspec": {
   "display_name": "Python 3 (ipykernel)",
   "language": "python",
   "name": "python3"
  },
  "language_info": {
   "codemirror_mode": {
    "name": "ipython",
    "version": 3
   },
   "file_extension": ".py",
   "mimetype": "text/x-python",
   "name": "python",
   "nbconvert_exporter": "python",
   "pygments_lexer": "ipython3",
   "version": "3.13.2"
  }
 },
 "nbformat": 4,
 "nbformat_minor": 5
}
